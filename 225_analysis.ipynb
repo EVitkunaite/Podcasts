{
 "cells": [
  {
   "cell_type": "markdown",
   "metadata": {},
   "source": [
    "# Module 2: Data Analysis\n",
    "## Sprint 2: Inferential Statistical Analysis\n",
    "## Part 5: Inferential Statistical Analysis of the Podcast Reviews\n"
   ]
  },
  {
   "cell_type": "markdown",
   "metadata": {},
   "source": [
    "The data used for analysis is from [Podcast Reviews Dataset](https://www.kaggle.com/thoughtvector/podcastreviews).\n",
    "\n"
   ]
  },
  {
   "cell_type": "markdown",
   "metadata": {},
   "source": [
    "# Table of Contents\n",
    "\n",
    "* [Data Import and Cleaning](#chapter1)\n",
    "* [The Exploratory Data Analysis ](#chapter2)\n",
    "* [NLP](#chapter3)\n",
    "* [Normality Assumption](#chapter4)\n",
    "* [One-way ANOVA)](#chapter5)\n",
    "    * [Dataframe for statistical analysis](#section5.1)\n",
    "    * [Q-Q Plots](#section5.2) \n",
    "    * [Hypothesis Testing](#section5.3)\n",
    "* [The Sentiment Classifier](#chapter6)\n",
    "* [Conclusions](#chapter7)\n",
    "\n",
    "\n"
   ]
  },
  {
   "cell_type": "markdown",
   "metadata": {},
   "source": [
    "## Data Import and Cleaning  <a class=\"anchor\" id=\"chapter1\"></a>"
   ]
  },
  {
   "cell_type": "code",
   "execution_count": 1,
   "metadata": {},
   "outputs": [],
   "source": [
    "import sqlite3\n",
    "import pandas as pd\n",
    "import numpy as np\n",
    "import matplotlib.pyplot as plt\n",
    "import seaborn as sns\n",
    "import warnings\n",
    "from pandas.core.common import SettingWithCopyWarning\n",
    "import collections\n",
    "import regex as re\n",
    "import random\n",
    "import string\n",
    "import nltk\n",
    "from collections import Counter\n",
    "from nltk.tokenize import word_tokenize\n",
    "from nltk.corpus import stopwords\n",
    "import scipy.stats as stats\n",
    "from sklearn.model_selection import train_test_split\n",
    "from sklearn.feature_extraction.text import CountVectorizer\n",
    "from sklearn.linear_model import LogisticRegression\n",
    "from sklearn.metrics import accuracy_score\n",
    "from sklearn.metrics import classification_report"
   ]
  },
  {
   "cell_type": "code",
   "execution_count": 2,
   "metadata": {},
   "outputs": [],
   "source": [
    "warnings.simplefilter(action=\"ignore\", category=SettingWithCopyWarning)"
   ]
  },
  {
   "cell_type": "code",
   "execution_count": 3,
   "metadata": {},
   "outputs": [],
   "source": [
    "colors = ['#00876c','#449c6e', '#70af6f', '#9bc271', '#c8d377', '#f7e382','#f6c468','#f3a457','#ed834e','#e3614d','#d43d51', \n",
    "          '#003f5c', '#2f4b7c', '#665191', '#a05195', '#d45087', '#f95d6a']\n",
    "sns.set_palette(sns.color_palette(colors))\n",
    "sns.set_style('white')\n",
    "sns.set_context('notebook')"
   ]
  },
  {
   "cell_type": "code",
   "execution_count": 4,
   "metadata": {},
   "outputs": [
    {
     "name": "stdout",
     "output_type": "stream",
     "text": [
      "                         podcast_id category                       title  \\\n",
      "0  c61aa81c9b929a66f0c1db6cbe5d8548     arts  Backstage at Tilles Center   \n",
      "\n",
      "                                             content        author_id  rating  \\\n",
      "0  Thanks for providing these insights.  Really e...  F7E5A318989779D       5   \n",
      "\n",
      "                  created_at  \n",
      "0  2018-04-24T12:05:16-07:00  \n"
     ]
    }
   ],
   "source": [
    "# Read sqlite query results into a pandas DataFrame\n",
    "con = sqlite3.connect(\"database.sqlite\")\n",
    "\n",
    "df_without_duplicates = pd.read_sql_query('''SELECT A.podcast_id, A.category, B.title, C.content, C.author_id, C.rating, C.created_at\n",
    "                             FROM categories A\n",
    "                             JOIN podcasts B\n",
    "                             ON A.podcast_id = B.podcast_id\n",
    "                             JOIN reviews C\n",
    "                             ON C.podcast_id = A.podcast_id\n",
    "                             ORDER BY \n",
    "                             rating DESC;''', con) #default - inner join, in this case I chose \n",
    "                                                   #this join type due to the shorter duration of loading the dataset\n",
    "\n",
    "# Verify that result of SQL query is stored in the dataframe\n",
    "print(df_without_duplicates.head(1))\n",
    "\n",
    "con.close()"
   ]
  },
  {
   "cell_type": "code",
   "execution_count": 5,
   "metadata": {},
   "outputs": [
    {
     "data": {
      "text/html": [
       "<div>\n",
       "<style scoped>\n",
       "    .dataframe tbody tr th:only-of-type {\n",
       "        vertical-align: middle;\n",
       "    }\n",
       "\n",
       "    .dataframe tbody tr th {\n",
       "        vertical-align: top;\n",
       "    }\n",
       "\n",
       "    .dataframe thead th {\n",
       "        text-align: right;\n",
       "    }\n",
       "</style>\n",
       "<table border=\"1\" class=\"dataframe\">\n",
       "  <thead>\n",
       "    <tr style=\"text-align: right;\">\n",
       "      <th></th>\n",
       "      <th>podcast_id</th>\n",
       "      <th>category</th>\n",
       "      <th>title</th>\n",
       "      <th>content</th>\n",
       "      <th>author_id</th>\n",
       "      <th>rating</th>\n",
       "      <th>created_at</th>\n",
       "    </tr>\n",
       "  </thead>\n",
       "  <tbody>\n",
       "    <tr>\n",
       "      <th>0</th>\n",
       "      <td>c61aa81c9b929a66f0c1db6cbe5d8548</td>\n",
       "      <td>arts</td>\n",
       "      <td>Backstage at Tilles Center</td>\n",
       "      <td>Thanks for providing these insights.  Really e...</td>\n",
       "      <td>F7E5A318989779D</td>\n",
       "      <td>5</td>\n",
       "      <td>2018-04-24T12:05:16-07:00</td>\n",
       "    </tr>\n",
       "    <tr>\n",
       "      <th>1</th>\n",
       "      <td>c61aa81c9b929a66f0c1db6cbe5d8548</td>\n",
       "      <td>arts-performing-arts</td>\n",
       "      <td>Backstage at Tilles Center</td>\n",
       "      <td>Thanks for providing these insights.  Really e...</td>\n",
       "      <td>F7E5A318989779D</td>\n",
       "      <td>5</td>\n",
       "      <td>2018-04-24T12:05:16-07:00</td>\n",
       "    </tr>\n",
       "  </tbody>\n",
       "</table>\n",
       "</div>"
      ],
      "text/plain": [
       "                         podcast_id              category  \\\n",
       "0  c61aa81c9b929a66f0c1db6cbe5d8548                  arts   \n",
       "1  c61aa81c9b929a66f0c1db6cbe5d8548  arts-performing-arts   \n",
       "\n",
       "                        title  \\\n",
       "0  Backstage at Tilles Center   \n",
       "1  Backstage at Tilles Center   \n",
       "\n",
       "                                             content        author_id  rating  \\\n",
       "0  Thanks for providing these insights.  Really e...  F7E5A318989779D       5   \n",
       "1  Thanks for providing these insights.  Really e...  F7E5A318989779D       5   \n",
       "\n",
       "                  created_at  \n",
       "0  2018-04-24T12:05:16-07:00  \n",
       "1  2018-04-24T12:05:16-07:00  "
      ]
     },
     "execution_count": 5,
     "metadata": {},
     "output_type": "execute_result"
    }
   ],
   "source": [
    "df_without_duplicates.head(2)"
   ]
  },
  {
   "cell_type": "code",
   "execution_count": 6,
   "metadata": {},
   "outputs": [
    {
     "data": {
      "text/plain": [
       "podcast_id    0\n",
       "category      0\n",
       "title         0\n",
       "content       0\n",
       "author_id     0\n",
       "rating        0\n",
       "created_at    0\n",
       "dtype: int64"
      ]
     },
     "execution_count": 6,
     "metadata": {},
     "output_type": "execute_result"
    }
   ],
   "source": [
    "#Check missing values\n",
    "df_without_duplicates.isnull().sum()"
   ]
  },
  {
   "cell_type": "code",
   "execution_count": 7,
   "metadata": {},
   "outputs": [
    {
     "name": "stdout",
     "output_type": "stream",
     "text": [
      "<class 'pandas.core.frame.DataFrame'>\n",
      "RangeIndex: 1531789 entries, 0 to 1531788\n",
      "Data columns (total 7 columns):\n",
      " #   Column      Non-Null Count    Dtype \n",
      "---  ------      --------------    ----- \n",
      " 0   podcast_id  1531789 non-null  object\n",
      " 1   category    1531789 non-null  object\n",
      " 2   title       1531789 non-null  object\n",
      " 3   content     1531789 non-null  object\n",
      " 4   author_id   1531789 non-null  object\n",
      " 5   rating      1531789 non-null  int64 \n",
      " 6   created_at  1531789 non-null  object\n",
      "dtypes: int64(1), object(6)\n",
      "memory usage: 81.8+ MB\n"
     ]
    }
   ],
   "source": [
    "df_without_duplicates.info()"
   ]
  },
  {
   "cell_type": "markdown",
   "metadata": {},
   "source": [
    "Here I am going to change ```created_at``` data type from <i>object</i> to <i>datetime</i> to create additional columns (year, month) for following graphs:"
   ]
  },
  {
   "cell_type": "code",
   "execution_count": 8,
   "metadata": {},
   "outputs": [],
   "source": [
    "df_without_duplicates['created_at'] = pd.to_datetime(df_without_duplicates['created_at'])"
   ]
  },
  {
   "cell_type": "markdown",
   "metadata": {},
   "source": [
    "The EDA analysis led me to change some categories names because it do not show or gives additional valuable information:"
   ]
  },
  {
   "cell_type": "code",
   "execution_count": 9,
   "metadata": {},
   "outputs": [
    {
     "data": {
      "text/plain": [
       "array(['arts', 'arts-performing-arts', 'music', 'arts-design',\n",
       "       'education', 'society-culture', 'arts-visual-arts', 'technology',\n",
       "       'arts-food', 'society-culture-personal-journals', 'comedy',\n",
       "       'arts-fashion-beauty', 'tv-film', 'society-culture-places-travel',\n",
       "       'kids-family', 'religion-spirituality', 'business',\n",
       "       'society-culture-philosophy', 'spirituality', 'business-careers',\n",
       "       'christianity', 'hinduism', 'business-investing', 'judaism',\n",
       "       'islam', 'buddhism'], dtype=object)"
      ]
     },
     "execution_count": 9,
     "metadata": {},
     "output_type": "execute_result"
    }
   ],
   "source": [
    "df_without_duplicates['category'].unique()"
   ]
  },
  {
   "cell_type": "code",
   "execution_count": 12,
   "metadata": {},
   "outputs": [],
   "source": [
    "df_without_duplicates['category'].replace(to_replace = ['arts-performing-arts', 'arts-design',\n",
    "                                            'arts-visual-arts', 'arts-food', 'arts-fashion-beauty'], value = 'arts', inplace = True)\n",
    "df_without_duplicates['category'].replace(to_replace = ['society-culture-personal-journals', 'society-culture-places-travel',\n",
    "                                            'society-culture-philosophy'], value = 'society-culture', inplace = True)\n",
    "df_without_duplicates['category'].replace(to_replace = ['spirituality', 'christianity',\n",
    "                                            'hinduism', 'judaism', 'islam', 'buddhism'], value = 'religion-spirituality', inplace = True)\n",
    "df_without_duplicates['category'].replace(to_replace = ['business-investing'], value = 'business', inplace = True)"
   ]
  },
  {
   "cell_type": "code",
   "execution_count": 13,
   "metadata": {},
   "outputs": [
    {
     "data": {
      "text/plain": [
       "array(['arts', 'music', 'education', 'society-culture', 'technology',\n",
       "       'comedy', 'tv-film', 'kids-family', 'religion-spirituality',\n",
       "       'business', 'business-careers'], dtype=object)"
      ]
     },
     "execution_count": 13,
     "metadata": {},
     "output_type": "execute_result"
    }
   ],
   "source": [
    "df_without_duplicates.category.unique()"
   ]
  },
  {
   "cell_type": "markdown",
   "metadata": {},
   "source": [
    "Here I can see that is going to be problematic to use statistical tools for hypothesis testing. All categories have pretty high ratings and lower ratings are considered outliers. In the <b>Normality Assumption</b> section this is going to be explained further."
   ]
  },
  {
   "cell_type": "code",
   "execution_count": 14,
   "metadata": {},
   "outputs": [
    {
     "data": {
      "text/html": [
       "<div>\n",
       "<style scoped>\n",
       "    .dataframe tbody tr th:only-of-type {\n",
       "        vertical-align: middle;\n",
       "    }\n",
       "\n",
       "    .dataframe tbody tr th {\n",
       "        vertical-align: top;\n",
       "    }\n",
       "\n",
       "    .dataframe thead tr th {\n",
       "        text-align: left;\n",
       "    }\n",
       "\n",
       "    .dataframe thead tr:last-of-type th {\n",
       "        text-align: right;\n",
       "    }\n",
       "</style>\n",
       "<table border=\"1\" class=\"dataframe\">\n",
       "  <thead>\n",
       "    <tr>\n",
       "      <th></th>\n",
       "      <th colspan=\"8\" halign=\"left\">rating</th>\n",
       "    </tr>\n",
       "    <tr>\n",
       "      <th></th>\n",
       "      <th>count</th>\n",
       "      <th>mean</th>\n",
       "      <th>std</th>\n",
       "      <th>min</th>\n",
       "      <th>25%</th>\n",
       "      <th>50%</th>\n",
       "      <th>75%</th>\n",
       "      <th>max</th>\n",
       "    </tr>\n",
       "    <tr>\n",
       "      <th>category</th>\n",
       "      <th></th>\n",
       "      <th></th>\n",
       "      <th></th>\n",
       "      <th></th>\n",
       "      <th></th>\n",
       "      <th></th>\n",
       "      <th></th>\n",
       "      <th></th>\n",
       "    </tr>\n",
       "  </thead>\n",
       "  <tbody>\n",
       "    <tr>\n",
       "      <th>arts</th>\n",
       "      <td>151513.0</td>\n",
       "      <td>4.738702</td>\n",
       "      <td>0.855718</td>\n",
       "      <td>1.0</td>\n",
       "      <td>5.0</td>\n",
       "      <td>5.0</td>\n",
       "      <td>5.0</td>\n",
       "      <td>5.0</td>\n",
       "    </tr>\n",
       "    <tr>\n",
       "      <th>business</th>\n",
       "      <td>160856.0</td>\n",
       "      <td>4.800816</td>\n",
       "      <td>0.778939</td>\n",
       "      <td>1.0</td>\n",
       "      <td>5.0</td>\n",
       "      <td>5.0</td>\n",
       "      <td>5.0</td>\n",
       "      <td>5.0</td>\n",
       "    </tr>\n",
       "    <tr>\n",
       "      <th>business-careers</th>\n",
       "      <td>38882.0</td>\n",
       "      <td>4.886837</td>\n",
       "      <td>0.568501</td>\n",
       "      <td>1.0</td>\n",
       "      <td>5.0</td>\n",
       "      <td>5.0</td>\n",
       "      <td>5.0</td>\n",
       "      <td>5.0</td>\n",
       "    </tr>\n",
       "    <tr>\n",
       "      <th>comedy</th>\n",
       "      <td>251908.0</td>\n",
       "      <td>4.638650</td>\n",
       "      <td>1.043981</td>\n",
       "      <td>1.0</td>\n",
       "      <td>5.0</td>\n",
       "      <td>5.0</td>\n",
       "      <td>5.0</td>\n",
       "      <td>5.0</td>\n",
       "    </tr>\n",
       "    <tr>\n",
       "      <th>education</th>\n",
       "      <td>117439.0</td>\n",
       "      <td>4.796899</td>\n",
       "      <td>0.778560</td>\n",
       "      <td>1.0</td>\n",
       "      <td>5.0</td>\n",
       "      <td>5.0</td>\n",
       "      <td>5.0</td>\n",
       "      <td>5.0</td>\n",
       "    </tr>\n",
       "    <tr>\n",
       "      <th>kids-family</th>\n",
       "      <td>64771.0</td>\n",
       "      <td>4.750428</td>\n",
       "      <td>0.837745</td>\n",
       "      <td>1.0</td>\n",
       "      <td>5.0</td>\n",
       "      <td>5.0</td>\n",
       "      <td>5.0</td>\n",
       "      <td>5.0</td>\n",
       "    </tr>\n",
       "    <tr>\n",
       "      <th>music</th>\n",
       "      <td>42089.0</td>\n",
       "      <td>4.784932</td>\n",
       "      <td>0.773252</td>\n",
       "      <td>1.0</td>\n",
       "      <td>5.0</td>\n",
       "      <td>5.0</td>\n",
       "      <td>5.0</td>\n",
       "      <td>5.0</td>\n",
       "    </tr>\n",
       "    <tr>\n",
       "      <th>religion-spirituality</th>\n",
       "      <td>178415.0</td>\n",
       "      <td>4.812471</td>\n",
       "      <td>0.764734</td>\n",
       "      <td>1.0</td>\n",
       "      <td>5.0</td>\n",
       "      <td>5.0</td>\n",
       "      <td>5.0</td>\n",
       "      <td>5.0</td>\n",
       "    </tr>\n",
       "    <tr>\n",
       "      <th>society-culture</th>\n",
       "      <td>368714.0</td>\n",
       "      <td>4.596096</td>\n",
       "      <td>1.078186</td>\n",
       "      <td>1.0</td>\n",
       "      <td>5.0</td>\n",
       "      <td>5.0</td>\n",
       "      <td>5.0</td>\n",
       "      <td>5.0</td>\n",
       "    </tr>\n",
       "    <tr>\n",
       "      <th>technology</th>\n",
       "      <td>35127.0</td>\n",
       "      <td>4.546076</td>\n",
       "      <td>1.117673</td>\n",
       "      <td>1.0</td>\n",
       "      <td>5.0</td>\n",
       "      <td>5.0</td>\n",
       "      <td>5.0</td>\n",
       "      <td>5.0</td>\n",
       "    </tr>\n",
       "    <tr>\n",
       "      <th>tv-film</th>\n",
       "      <td>122075.0</td>\n",
       "      <td>4.521589</td>\n",
       "      <td>1.166546</td>\n",
       "      <td>1.0</td>\n",
       "      <td>5.0</td>\n",
       "      <td>5.0</td>\n",
       "      <td>5.0</td>\n",
       "      <td>5.0</td>\n",
       "    </tr>\n",
       "  </tbody>\n",
       "</table>\n",
       "</div>"
      ],
      "text/plain": [
       "                         rating                                             \n",
       "                          count      mean       std  min  25%  50%  75%  max\n",
       "category                                                                    \n",
       "arts                   151513.0  4.738702  0.855718  1.0  5.0  5.0  5.0  5.0\n",
       "business               160856.0  4.800816  0.778939  1.0  5.0  5.0  5.0  5.0\n",
       "business-careers        38882.0  4.886837  0.568501  1.0  5.0  5.0  5.0  5.0\n",
       "comedy                 251908.0  4.638650  1.043981  1.0  5.0  5.0  5.0  5.0\n",
       "education              117439.0  4.796899  0.778560  1.0  5.0  5.0  5.0  5.0\n",
       "kids-family             64771.0  4.750428  0.837745  1.0  5.0  5.0  5.0  5.0\n",
       "music                   42089.0  4.784932  0.773252  1.0  5.0  5.0  5.0  5.0\n",
       "religion-spirituality  178415.0  4.812471  0.764734  1.0  5.0  5.0  5.0  5.0\n",
       "society-culture        368714.0  4.596096  1.078186  1.0  5.0  5.0  5.0  5.0\n",
       "technology              35127.0  4.546076  1.117673  1.0  5.0  5.0  5.0  5.0\n",
       "tv-film                122075.0  4.521589  1.166546  1.0  5.0  5.0  5.0  5.0"
      ]
     },
     "execution_count": 14,
     "metadata": {},
     "output_type": "execute_result"
    }
   ],
   "source": [
    "df_without_duplicates.groupby('category').describe()"
   ]
  },
  {
   "cell_type": "markdown",
   "metadata": {},
   "source": [
    "## The Exploratory Data Analysis <a class=\"anchor\" id=\"chapter2\"></a>\n",
    "\n",
    "This section covers the overall analysis of dataset."
   ]
  },
  {
   "cell_type": "code",
   "execution_count": 15,
   "metadata": {},
   "outputs": [],
   "source": [
    "df_category_ =  df_without_duplicates.groupby(['category', 'created_at'],as_index=False).rating.mean()"
   ]
  },
  {
   "cell_type": "code",
   "execution_count": 16,
   "metadata": {},
   "outputs": [
    {
     "name": "stdout",
     "output_type": "stream",
     "text": [
      "<class 'pandas.core.frame.DataFrame'>\n",
      "Int64Index: 1282348 entries, 0 to 1282347\n",
      "Data columns (total 3 columns):\n",
      " #   Column      Non-Null Count    Dtype                                 \n",
      "---  ------      --------------    -----                                 \n",
      " 0   category    1282348 non-null  object                                \n",
      " 1   created_at  1282348 non-null  datetime64[ns, pytz.FixedOffset(-420)]\n",
      " 2   rating      1282348 non-null  float64                               \n",
      "dtypes: datetime64[ns, pytz.FixedOffset(-420)](1), float64(1), object(1)\n",
      "memory usage: 39.1+ MB\n"
     ]
    }
   ],
   "source": [
    "df_category_.info()"
   ]
  },
  {
   "cell_type": "markdown",
   "metadata": {},
   "source": [
    "I did not like the format of column ```created_at```, thus I did year/month/day seperation and got only year column. This helped me to visualize data more efficiently."
   ]
  },
  {
   "cell_type": "code",
   "execution_count": 17,
   "metadata": {},
   "outputs": [],
   "source": [
    "df_category_['year'] = df_category_['created_at'].dt.year"
   ]
  },
  {
   "cell_type": "code",
   "execution_count": 18,
   "metadata": {},
   "outputs": [],
   "source": [
    "df_category_ = df_category_.drop(columns=['created_at'])"
   ]
  },
  {
   "cell_type": "code",
   "execution_count": 19,
   "metadata": {},
   "outputs": [
    {
     "data": {
      "text/html": [
       "<div>\n",
       "<style scoped>\n",
       "    .dataframe tbody tr th:only-of-type {\n",
       "        vertical-align: middle;\n",
       "    }\n",
       "\n",
       "    .dataframe tbody tr th {\n",
       "        vertical-align: top;\n",
       "    }\n",
       "\n",
       "    .dataframe thead th {\n",
       "        text-align: right;\n",
       "    }\n",
       "</style>\n",
       "<table border=\"1\" class=\"dataframe\">\n",
       "  <thead>\n",
       "    <tr style=\"text-align: right;\">\n",
       "      <th></th>\n",
       "      <th>category</th>\n",
       "      <th>rating</th>\n",
       "      <th>year</th>\n",
       "    </tr>\n",
       "  </thead>\n",
       "  <tbody>\n",
       "    <tr>\n",
       "      <th>0</th>\n",
       "      <td>arts</td>\n",
       "      <td>5.0</td>\n",
       "      <td>2005</td>\n",
       "    </tr>\n",
       "    <tr>\n",
       "      <th>1</th>\n",
       "      <td>arts</td>\n",
       "      <td>5.0</td>\n",
       "      <td>2005</td>\n",
       "    </tr>\n",
       "  </tbody>\n",
       "</table>\n",
       "</div>"
      ],
      "text/plain": [
       "  category  rating  year\n",
       "0     arts     5.0  2005\n",
       "1     arts     5.0  2005"
      ]
     },
     "execution_count": 19,
     "metadata": {},
     "output_type": "execute_result"
    }
   ],
   "source": [
    "df_category_.head(2)"
   ]
  },
  {
   "cell_type": "code",
   "execution_count": 20,
   "metadata": {},
   "outputs": [],
   "source": [
    "category_mean_year =  df_category_.groupby(['category','year'],as_index=False).rating.mean()"
   ]
  },
  {
   "cell_type": "code",
   "execution_count": 21,
   "metadata": {},
   "outputs": [
    {
     "data": {
      "text/html": [
       "<div>\n",
       "<style scoped>\n",
       "    .dataframe tbody tr th:only-of-type {\n",
       "        vertical-align: middle;\n",
       "    }\n",
       "\n",
       "    .dataframe tbody tr th {\n",
       "        vertical-align: top;\n",
       "    }\n",
       "\n",
       "    .dataframe thead th {\n",
       "        text-align: right;\n",
       "    }\n",
       "</style>\n",
       "<table border=\"1\" class=\"dataframe\">\n",
       "  <thead>\n",
       "    <tr style=\"text-align: right;\">\n",
       "      <th></th>\n",
       "      <th>category</th>\n",
       "      <th>year</th>\n",
       "      <th>rating</th>\n",
       "    </tr>\n",
       "  </thead>\n",
       "  <tbody>\n",
       "    <tr>\n",
       "      <th>0</th>\n",
       "      <td>arts</td>\n",
       "      <td>2005</td>\n",
       "      <td>4.863636</td>\n",
       "    </tr>\n",
       "    <tr>\n",
       "      <th>1</th>\n",
       "      <td>arts</td>\n",
       "      <td>2006</td>\n",
       "      <td>4.612342</td>\n",
       "    </tr>\n",
       "  </tbody>\n",
       "</table>\n",
       "</div>"
      ],
      "text/plain": [
       "  category  year    rating\n",
       "0     arts  2005  4.863636\n",
       "1     arts  2006  4.612342"
      ]
     },
     "execution_count": 21,
     "metadata": {},
     "output_type": "execute_result"
    }
   ],
   "source": [
    "category_mean_year.head(2)"
   ]
  },
  {
   "cell_type": "code",
   "execution_count": 22,
   "metadata": {},
   "outputs": [
    {
     "data": {
      "text/plain": [
       "<Figure size 720x1080 with 0 Axes>"
      ]
     },
     "metadata": {},
     "output_type": "display_data"
    },
    {
     "data": {
      "image/png": "[encoded data removed]",
      "text/plain": [
       "<Figure size 488.35x360 with 1 Axes>"
      ]
     },
     "metadata": {},
     "output_type": "display_data"
    }
   ],
   "source": [
    "plt.figure(figsize=(10, 15))\n",
    "sns.catplot(x=\"year\", y=\"rating\", hue=\"category\", data=category_mean_year)\n",
    "plt.xticks(rotation = 90)\n",
    "plt.title('The Categories\\'s Rating Throughout the Years');"
   ]
  },
  {
   "cell_type": "markdown",
   "metadata": {},
   "source": [
    "Here we can see that all categories shares approximately the same mean.\n",
    "\n",
    "However, the tip categories that are seen the graph are the green marked (arts, business, business-careers, comedy, education). \n",
    "\n",
    "Interestingly, the podcasts rating are growing since 2010 till 2014.\n",
    "\n",
    "The lowest mean of 3.0 is for kids-family category in 2005. "
   ]
  },
  {
   "cell_type": "code",
   "execution_count": 23,
   "metadata": {},
   "outputs": [
    {
     "data": {
      "image/png": "[encoded data removed]",
      "text/plain": [
       "<Figure size 576x432 with 1 Axes>"
      ]
     },
     "metadata": {},
     "output_type": "display_data"
    }
   ],
   "source": [
    "plt.figure(figsize=(8, 6))\n",
    "sns.kdeplot(\n",
    "   data=category_mean_year, x='rating', hue='year', palette=colors)\n",
    "plt.title('The Density plot of Ratings');"
   ]
  },
  {
   "cell_type": "markdown",
   "metadata": {},
   "source": [
    "The highest rating count probability is in 2013 and the lowest - 2005. \n",
    "\n",
    "The peak of podcasts rating could be increased due to podcast definition [qualification](https://www.statista.com/chart/10713/podcast-listeners-in-the-united-states/). Also, it is reported that [<i>One in three Americans aged 12 and older now listen to all forms of online radio</i>](https://www.edisonresearch.com/the-infinite-dial-2013-navigating-digital-platforms/) in 2013.\n"
   ]
  },
  {
   "cell_type": "markdown",
   "metadata": {},
   "source": [
    "The following steps are going to include podcasts that have been rated since 2005:"
   ]
  },
  {
   "cell_type": "code",
   "execution_count": 24,
   "metadata": {},
   "outputs": [],
   "source": [
    "podcast_mean_year =  df_without_duplicates.groupby(['title','created_at'],as_index=False).rating.mean()"
   ]
  },
  {
   "cell_type": "code",
   "execution_count": 25,
   "metadata": {},
   "outputs": [],
   "source": [
    "podcast_mean_year['month'] = podcast_mean_year['created_at'].dt.month\n",
    "podcast_mean_year['year'] = podcast_mean_year['created_at'].dt.year"
   ]
  },
  {
   "cell_type": "code",
   "execution_count": 26,
   "metadata": {},
   "outputs": [
    {
     "data": {
      "text/html": [
       "<div>\n",
       "<style scoped>\n",
       "    .dataframe tbody tr th:only-of-type {\n",
       "        vertical-align: middle;\n",
       "    }\n",
       "\n",
       "    .dataframe tbody tr th {\n",
       "        vertical-align: top;\n",
       "    }\n",
       "\n",
       "    .dataframe thead th {\n",
       "        text-align: right;\n",
       "    }\n",
       "</style>\n",
       "<table border=\"1\" class=\"dataframe\">\n",
       "  <thead>\n",
       "    <tr style=\"text-align: right;\">\n",
       "      <th></th>\n",
       "      <th>title</th>\n",
       "      <th>year</th>\n",
       "      <th>rating</th>\n",
       "    </tr>\n",
       "  </thead>\n",
       "  <tbody>\n",
       "    <tr>\n",
       "      <th>0</th>\n",
       "      <td>\"Artists Behind the Action\"</td>\n",
       "      <td>2019</td>\n",
       "      <td>5.000000</td>\n",
       "    </tr>\n",
       "    <tr>\n",
       "      <th>1</th>\n",
       "      <td>#Hip-Hop #Reggae #Electronic Dance Music</td>\n",
       "      <td>2017</td>\n",
       "      <td>5.000000</td>\n",
       "    </tr>\n",
       "    <tr>\n",
       "      <th>2</th>\n",
       "      <td>#Hip-Hop #Reggae #Electronic Dance Music</td>\n",
       "      <td>2018</td>\n",
       "      <td>4.500000</td>\n",
       "    </tr>\n",
       "    <tr>\n",
       "      <th>3</th>\n",
       "      <td>#Hip-Hop #Reggae #Electronic Dance Music</td>\n",
       "      <td>2019</td>\n",
       "      <td>3.666667</td>\n",
       "    </tr>\n",
       "    <tr>\n",
       "      <th>4</th>\n",
       "      <td>#Hip-Hop #Reggae #Electronic Dance Music</td>\n",
       "      <td>2020</td>\n",
       "      <td>5.000000</td>\n",
       "    </tr>\n",
       "  </tbody>\n",
       "</table>\n",
       "</div>"
      ],
      "text/plain": [
       "                                      title  year    rating\n",
       "0               \"Artists Behind the Action\"  2019  5.000000\n",
       "1  #Hip-Hop #Reggae #Electronic Dance Music  2017  5.000000\n",
       "2  #Hip-Hop #Reggae #Electronic Dance Music  2018  4.500000\n",
       "3  #Hip-Hop #Reggae #Electronic Dance Music  2019  3.666667\n",
       "4  #Hip-Hop #Reggae #Electronic Dance Music  2020  5.000000"
      ]
     },
     "execution_count": 26,
     "metadata": {},
     "output_type": "execute_result"
    }
   ],
   "source": [
    "podmy = podcast_mean_year.groupby(['title','year'],as_index=False).rating.mean()\n",
    "podmy.head()"
   ]
  },
  {
   "cell_type": "code",
   "execution_count": 27,
   "metadata": {},
   "outputs": [],
   "source": [
    "podmy = podmy[podmy['title'].map(podmy['title'].value_counts()) > 16]"
   ]
  },
  {
   "cell_type": "code",
   "execution_count": 28,
   "metadata": {},
   "outputs": [
    {
     "name": "stdout",
     "output_type": "stream",
     "text": [
      "<class 'pandas.core.frame.DataFrame'>\n",
      "Int64Index: 136 entries, 2274 to 91392\n",
      "Data columns (total 3 columns):\n",
      " #   Column  Non-Null Count  Dtype  \n",
      "---  ------  --------------  -----  \n",
      " 0   title   136 non-null    object \n",
      " 1   year    136 non-null    int64  \n",
      " 2   rating  136 non-null    float64\n",
      "dtypes: float64(1), int64(1), object(1)\n",
      "memory usage: 4.2+ KB\n"
     ]
    }
   ],
   "source": [
    "podmy.info()"
   ]
  },
  {
   "cell_type": "code",
   "execution_count": 29,
   "metadata": {},
   "outputs": [
    {
     "data": {
      "text/plain": [
       "Audio Dharma                                          17\n",
       "Mac Geek Gab (Enhanced AAC)                           17\n",
       "This Week in Science – The Kickass Science Podcast    17\n",
       "Mosaic - Erwin McManus                                17\n",
       "NBC Meet the Press                                    17\n",
       "All Songs Considered                                  17\n",
       "Distorted View Daily                                  17\n",
       "NosillaCast Apple Podcast                             17\n",
       "Name: title, dtype: int64"
      ]
     },
     "execution_count": 29,
     "metadata": {},
     "output_type": "execute_result"
    }
   ],
   "source": [
    "podmy['title'].value_counts()"
   ]
  },
  {
   "cell_type": "code",
   "execution_count": 30,
   "metadata": {},
   "outputs": [
    {
     "data": {
      "text/plain": [
       "<Figure size 720x432 with 0 Axes>"
      ]
     },
     "metadata": {},
     "output_type": "display_data"
    },
    {
     "data": {
      "image/png": "[encoded data removed]",
      "text/plain": [
       "<Figure size 1453.6x576 with 8 Axes>"
      ]
     },
     "metadata": {},
     "output_type": "display_data"
    }
   ],
   "source": [
    "fig = plt.figure(figsize=(10, 6))\n",
    "sns.relplot(\n",
    "    data=podmy,\n",
    "    x='year', y='rating',\n",
    "    hue='title', col = 'title', col_wrap=4,\n",
    "    height=4,  facet_kws=dict(sharex=False));"
   ]
  },
  {
   "cell_type": "markdown",
   "metadata": {},
   "source": [
    "- From the graph above it is seen that NBC Meet the Press rating is falling throughout the 17 years. It can be failing due to its themes and the podcast host [(mostly political)](https://chartable.com/podcasts/nbc-meet-the-press/reviews)\n",
    "- The most consistent rating is for Audio Dharma and Mac Greek Gab.\n",
    "- Interestingly, science podcast This Week in Science rating dropped in 2016 and the rating got higher only in 2020."
   ]
  },
  {
   "cell_type": "markdown",
   "metadata": {},
   "source": [
    "## NLP <a class=\"anchor\" id=\"chapter3\"></a>"
   ]
  },
  {
   "cell_type": "code",
   "execution_count": 31,
   "metadata": {},
   "outputs": [
    {
     "data": {
      "text/html": [
       "<div>\n",
       "<style scoped>\n",
       "    .dataframe tbody tr th:only-of-type {\n",
       "        vertical-align: middle;\n",
       "    }\n",
       "\n",
       "    .dataframe tbody tr th {\n",
       "        vertical-align: top;\n",
       "    }\n",
       "\n",
       "    .dataframe thead th {\n",
       "        text-align: right;\n",
       "    }\n",
       "</style>\n",
       "<table border=\"1\" class=\"dataframe\">\n",
       "  <thead>\n",
       "    <tr style=\"text-align: right;\">\n",
       "      <th></th>\n",
       "      <th>podcast_id</th>\n",
       "      <th>category</th>\n",
       "      <th>title</th>\n",
       "      <th>content</th>\n",
       "      <th>author_id</th>\n",
       "      <th>rating</th>\n",
       "      <th>created_at</th>\n",
       "    </tr>\n",
       "  </thead>\n",
       "  <tbody>\n",
       "    <tr>\n",
       "      <th>0</th>\n",
       "      <td>c61aa81c9b929a66f0c1db6cbe5d8548</td>\n",
       "      <td>arts</td>\n",
       "      <td>Backstage at Tilles Center</td>\n",
       "      <td>Thanks for providing these insights.  Really e...</td>\n",
       "      <td>F7E5A318989779D</td>\n",
       "      <td>5</td>\n",
       "      <td>2018-04-24 12:05:16-07:00</td>\n",
       "    </tr>\n",
       "  </tbody>\n",
       "</table>\n",
       "</div>"
      ],
      "text/plain": [
       "                         podcast_id category                       title  \\\n",
       "0  c61aa81c9b929a66f0c1db6cbe5d8548     arts  Backstage at Tilles Center   \n",
       "\n",
       "                                             content        author_id  rating  \\\n",
       "0  Thanks for providing these insights.  Really e...  F7E5A318989779D       5   \n",
       "\n",
       "                 created_at  \n",
       "0 2018-04-24 12:05:16-07:00  "
      ]
     },
     "execution_count": 31,
     "metadata": {},
     "output_type": "execute_result"
    }
   ],
   "source": [
    "df_without_duplicates.head(1)"
   ]
  },
  {
   "cell_type": "code",
   "execution_count": 32,
   "metadata": {},
   "outputs": [],
   "source": [
    "content_rating =  df_without_duplicates.groupby(['category','content', 'created_at'],as_index=False).rating.mean()"
   ]
  },
  {
   "cell_type": "code",
   "execution_count": 33,
   "metadata": {},
   "outputs": [
    {
     "data": {
      "text/html": [
       "<div>\n",
       "<style scoped>\n",
       "    .dataframe tbody tr th:only-of-type {\n",
       "        vertical-align: middle;\n",
       "    }\n",
       "\n",
       "    .dataframe tbody tr th {\n",
       "        vertical-align: top;\n",
       "    }\n",
       "\n",
       "    .dataframe thead th {\n",
       "        text-align: right;\n",
       "    }\n",
       "</style>\n",
       "<table border=\"1\" class=\"dataframe\">\n",
       "  <thead>\n",
       "    <tr style=\"text-align: right;\">\n",
       "      <th></th>\n",
       "      <th>category</th>\n",
       "      <th>content</th>\n",
       "      <th>created_at</th>\n",
       "      <th>rating</th>\n",
       "    </tr>\n",
       "  </thead>\n",
       "  <tbody>\n",
       "    <tr>\n",
       "      <th>0</th>\n",
       "      <td>arts</td>\n",
       "      <td>!!!!!!!!!!!!!!!!!!!!!!!!!!!!!</td>\n",
       "      <td>2016-05-20 06:09:37-07:00</td>\n",
       "      <td>5.0</td>\n",
       "    </tr>\n",
       "  </tbody>\n",
       "</table>\n",
       "</div>"
      ],
      "text/plain": [
       "  category                        content                created_at  rating\n",
       "0     arts  !!!!!!!!!!!!!!!!!!!!!!!!!!!!! 2016-05-20 06:09:37-07:00     5.0"
      ]
     },
     "execution_count": 33,
     "metadata": {},
     "output_type": "execute_result"
    }
   ],
   "source": [
    "content_rating.head(1)"
   ]
  },
  {
   "cell_type": "markdown",
   "metadata": {},
   "source": [
    "This particular code and sample_df is going to be used for Normality Assumption and NLP.\n",
    "\n",
    "Here I randomly sampled 500 podcasts from the dataset using ```random.sample```."
   ]
  },
  {
   "cell_type": "code",
   "execution_count": 34,
   "metadata": {},
   "outputs": [],
   "source": [
    "# random sample for 500 podcasts \n",
    "unique_podcast_id = list(df_without_duplicates['podcast_id'].unique())\n",
    "random.seed(30) # set a seed so that everytime we will extract same sample\n",
    "sample_podcast_id = random.sample(unique_podcast_id, 500)\n",
    "sample_df = df_without_duplicates[df_without_duplicates['podcast_id'].isin(sample_podcast_id)].reset_index(drop=True)"
   ]
  },
  {
   "cell_type": "code",
   "execution_count": 35,
   "metadata": {},
   "outputs": [
    {
     "name": "stderr",
     "output_type": "stream",
     "text": [
      "[nltk_data] Downloading package punkt to\n",
      "[nltk_data]     C:\\Users\\User\\AppData\\Roaming\\nltk_data...\n",
      "[nltk_data]   Package punkt is already up-to-date!\n",
      "[nltk_data] Downloading package stopwords to\n",
      "[nltk_data]     C:\\Users\\User\\AppData\\Roaming\\nltk_data...\n",
      "[nltk_data]   Package stopwords is already up-to-date!\n"
     ]
    },
    {
     "data": {
      "text/plain": [
       "True"
      ]
     },
     "execution_count": 35,
     "metadata": {},
     "output_type": "execute_result"
    }
   ],
   "source": [
    "nltk.download('punkt')\n",
    "nltk.download('stopwords')"
   ]
  },
  {
   "cell_type": "code",
   "execution_count": 36,
   "metadata": {},
   "outputs": [],
   "source": [
    "STOP_WORDS = stopwords.words()\n",
    "\n",
    "# removing the emojies\n",
    "EMOJI_PATTERN = re.compile(\"[\"\n",
    "                           u\"\\U0001F600-\\U0001F64F\"  # emoticons\n",
    "                           u\"\\U0001F300-\\U0001F5FF\"  # symbols & pictographs\n",
    "                           u\"\\U0001F680-\\U0001F6FF\"  # transport & map symbols\n",
    "                           u\"\\U0001F1E0-\\U0001F1FF\"  # flags (iOS)\n",
    "                           u\"\\U00002702-\\U000027B0\"\n",
    "                           u\"\\U000024C2-\\U0001F251\"\n",
    "                           \"]+\", flags=re.UNICODE)\n",
    "\n",
    "\n",
    "def cleaning(text):\n",
    "    \"\"\"\n",
    "    Convert to lowercase.\n",
    "    Rremove URL links, special characters and punctuation.\n",
    "    Tokenize and remove stop words.\n",
    "    \"\"\"\n",
    "    text = text.lower()\n",
    "    text = re.sub('https?://\\S+|www\\.\\S+', '', text)\n",
    "    text = re.sub('<.*?>+', '', text)\n",
    "    text = re.sub('[%s]' % re.escape(string.punctuation), '', text)\n",
    "    text = re.sub('\\n', '', text)\n",
    "    text = re.sub('[’“”…]', '', text)\n",
    "\n",
    "    text = EMOJI_PATTERN.sub(r'', text)\n",
    "\n",
    "    # removing the stop-words\n",
    "    text_tokens = word_tokenize(text)\n",
    "    tokens_without_sw = [\n",
    "        word for word in text_tokens if not word in STOP_WORDS]\n",
    "    filtered_sentence = (\" \").join(tokens_without_sw)\n",
    "    text = filtered_sentence\n",
    "\n",
    "    return text"
   ]
  },
  {
   "cell_type": "code",
   "execution_count": 37,
   "metadata": {},
   "outputs": [],
   "source": [
    "if __name__ == \"__main__\":\n",
    "    max_rows = 500  # 'None' to read whole file\n",
    "    df = sample_df\n",
    "\n",
    "    dt = df['content'].apply(cleaning)\n",
    "\n",
    "    word_count = Counter(\" \".join(dt).split()).most_common(10)\n",
    "    word_frequency = pd.DataFrame(word_count, columns = ['Word', 'Frequency'])\n",
    "    #print(word_frequency)"
   ]
  },
  {
   "cell_type": "code",
   "execution_count": 38,
   "metadata": {},
   "outputs": [
    {
     "data": {
      "text/plain": [
       "<Figure size 576x432 with 0 Axes>"
      ]
     },
     "metadata": {},
     "output_type": "display_data"
    },
    {
     "data": {
      "image/png": "[encoded data removed]",
      "text/plain": [
       "<Figure size 360x360 with 1 Axes>"
      ]
     },
     "metadata": {},
     "output_type": "display_data"
    }
   ],
   "source": [
    "plt.figure(figsize=(8, 6));\n",
    "sns.catplot(x='Word', y='Frequency', data = word_frequency, kind='bar')\n",
    "plt.title('The Most Common Used Words in Reviews')\n",
    "plt.xticks(rotation = 90);"
   ]
  },
  {
   "cell_type": "markdown",
   "metadata": {},
   "source": [
    "Since this dataset has mostly positive values (the rating of 5), most of the common words are related to ratings. In the graphs, that can be seen: majority of common words has positive meaning (love, great, really, like)."
   ]
  },
  {
   "cell_type": "markdown",
   "metadata": {},
   "source": [
    "## Normality Assumption <a class=\"anchor\" id=\"chapter4\"></a>\n",
    "\n"
   ]
  },
  {
   "cell_type": "markdown",
   "metadata": {},
   "source": [
    "In the beggining of EDA, I showed the outlier graph (boxplot if I can call it like that), showed that all ratings below 5 are considered as outliers. The Normality Assumption is done just to prove that this dataset data is non-normality distributed if we are considering only ratings between categories.\n",
    "\n",
    "sample_df is going to be grouped to interested columns for the following analysis."
   ]
  },
  {
   "cell_type": "code",
   "execution_count": 39,
   "metadata": {},
   "outputs": [],
   "source": [
    "sample_df = sample_df[['category', 'rating', 'content', 'author_id', 'created_at']]"
   ]
  },
  {
   "cell_type": "markdown",
   "metadata": {},
   "source": [
    "I was hoping to do ANOVA Test and test if all categories rating mean is equal to each other (H0 hypothesis). However, the histplot shows that not categories count is not distributed noramlly. In conclusion, it would be wrongly to assume or compare those categories rating and draw a hypothesis."
   ]
  },
  {
   "cell_type": "code",
   "execution_count": 40,
   "metadata": {},
   "outputs": [
    {
     "data": {
      "image/png": "[encoded data removed]",
      "text/plain": [
       "<Figure size 576x432 with 1 Axes>"
      ]
     },
     "metadata": {},
     "output_type": "display_data"
    }
   ],
   "source": [
    "plt.figure(figsize=(8, 6))\n",
    "sns.histplot(data=sample_df, x=\"category\", binwidth=3)\n",
    "plt.xticks(rotation = 90)\n",
    "plt.title('The Histplot of Categories');"
   ]
  },
  {
   "cell_type": "markdown",
   "metadata": {},
   "source": [
    "Here we can see that data is non-normaly distributed."
   ]
  },
  {
   "cell_type": "code",
   "execution_count": 41,
   "metadata": {},
   "outputs": [
    {
     "data": {
      "text/html": [
       "<div>\n",
       "<style scoped>\n",
       "    .dataframe tbody tr th:only-of-type {\n",
       "        vertical-align: middle;\n",
       "    }\n",
       "\n",
       "    .dataframe tbody tr th {\n",
       "        vertical-align: top;\n",
       "    }\n",
       "\n",
       "    .dataframe thead th {\n",
       "        text-align: right;\n",
       "    }\n",
       "</style>\n",
       "<table border=\"1\" class=\"dataframe\">\n",
       "  <thead>\n",
       "    <tr style=\"text-align: right;\">\n",
       "      <th></th>\n",
       "      <th>rating</th>\n",
       "    </tr>\n",
       "  </thead>\n",
       "  <tbody>\n",
       "    <tr>\n",
       "      <th>count</th>\n",
       "      <td>9662.000000</td>\n",
       "    </tr>\n",
       "    <tr>\n",
       "      <th>mean</th>\n",
       "      <td>4.699234</td>\n",
       "    </tr>\n",
       "    <tr>\n",
       "      <th>std</th>\n",
       "      <td>0.957106</td>\n",
       "    </tr>\n",
       "    <tr>\n",
       "      <th>min</th>\n",
       "      <td>1.000000</td>\n",
       "    </tr>\n",
       "    <tr>\n",
       "      <th>25%</th>\n",
       "      <td>5.000000</td>\n",
       "    </tr>\n",
       "    <tr>\n",
       "      <th>50%</th>\n",
       "      <td>5.000000</td>\n",
       "    </tr>\n",
       "    <tr>\n",
       "      <th>75%</th>\n",
       "      <td>5.000000</td>\n",
       "    </tr>\n",
       "    <tr>\n",
       "      <th>max</th>\n",
       "      <td>5.000000</td>\n",
       "    </tr>\n",
       "  </tbody>\n",
       "</table>\n",
       "</div>"
      ],
      "text/plain": [
       "            rating\n",
       "count  9662.000000\n",
       "mean      4.699234\n",
       "std       0.957106\n",
       "min       1.000000\n",
       "25%       5.000000\n",
       "50%       5.000000\n",
       "75%       5.000000\n",
       "max       5.000000"
      ]
     },
     "execution_count": 41,
     "metadata": {},
     "output_type": "execute_result"
    }
   ],
   "source": [
    "sample_df.describe()"
   ]
  },
  {
   "cell_type": "markdown",
   "metadata": {},
   "source": [
    "Also, the table illustrates what I meant by existing outliers and how data is distributes. Quartiles and median have equal values."
   ]
  },
  {
   "cell_type": "markdown",
   "metadata": {},
   "source": [
    "## One-Way ANOVA<a class=\"anchor\" id=\"chapter5\"></a>"
   ]
  },
  {
   "cell_type": "markdown",
   "metadata": {},
   "source": [
    "### Dataframe for statistical analysis <a class=\"anchor\" id=\"section5.1\"></a>\n",
    "\n",
    "However, I thought that I can compare each year rating counts of selected categories."
   ]
  },
  {
   "cell_type": "code",
   "execution_count": 42,
   "metadata": {},
   "outputs": [],
   "source": [
    "sample_df['year'] = sample_df['created_at'].dt.year"
   ]
  },
  {
   "cell_type": "code",
   "execution_count": 43,
   "metadata": {},
   "outputs": [
    {
     "data": {
      "text/plain": [
       "array(['arts', 'music', 'society-culture', 'education', 'comedy',\n",
       "       'business', 'kids-family', 'tv-film', 'business-careers',\n",
       "       'technology', 'religion-spirituality'], dtype=object)"
      ]
     },
     "execution_count": 43,
     "metadata": {},
     "output_type": "execute_result"
    }
   ],
   "source": [
    "sample_df['category'].unique()"
   ]
  },
  {
   "cell_type": "code",
   "execution_count": 44,
   "metadata": {},
   "outputs": [
    {
     "data": {
      "text/html": [
       "<div>\n",
       "<style scoped>\n",
       "    .dataframe tbody tr th:only-of-type {\n",
       "        vertical-align: middle;\n",
       "    }\n",
       "\n",
       "    .dataframe tbody tr th {\n",
       "        vertical-align: top;\n",
       "    }\n",
       "\n",
       "    .dataframe thead th {\n",
       "        text-align: right;\n",
       "    }\n",
       "</style>\n",
       "<table border=\"1\" class=\"dataframe\">\n",
       "  <thead>\n",
       "    <tr style=\"text-align: right;\">\n",
       "      <th></th>\n",
       "      <th>category</th>\n",
       "      <th>year</th>\n",
       "      <th>rating</th>\n",
       "      <th>counts</th>\n",
       "    </tr>\n",
       "  </thead>\n",
       "  <tbody>\n",
       "    <tr>\n",
       "      <th>0</th>\n",
       "      <td>arts</td>\n",
       "      <td>2006</td>\n",
       "      <td>5</td>\n",
       "      <td>12</td>\n",
       "    </tr>\n",
       "    <tr>\n",
       "      <th>1</th>\n",
       "      <td>arts</td>\n",
       "      <td>2007</td>\n",
       "      <td>5</td>\n",
       "      <td>12</td>\n",
       "    </tr>\n",
       "    <tr>\n",
       "      <th>2</th>\n",
       "      <td>arts</td>\n",
       "      <td>2008</td>\n",
       "      <td>1</td>\n",
       "      <td>2</td>\n",
       "    </tr>\n",
       "    <tr>\n",
       "      <th>3</th>\n",
       "      <td>arts</td>\n",
       "      <td>2008</td>\n",
       "      <td>5</td>\n",
       "      <td>8</td>\n",
       "    </tr>\n",
       "    <tr>\n",
       "      <th>4</th>\n",
       "      <td>arts</td>\n",
       "      <td>2009</td>\n",
       "      <td>1</td>\n",
       "      <td>4</td>\n",
       "    </tr>\n",
       "  </tbody>\n",
       "</table>\n",
       "</div>"
      ],
      "text/plain": [
       "  category  year  rating  counts\n",
       "0     arts  2006       5      12\n",
       "1     arts  2007       5      12\n",
       "2     arts  2008       1       2\n",
       "3     arts  2008       5       8\n",
       "4     arts  2009       1       4"
      ]
     },
     "execution_count": 44,
     "metadata": {},
     "output_type": "execute_result"
    }
   ],
   "source": [
    "df_for_tests = pd.DataFrame(sample_df.groupby(['category', 'year', 'rating']).size().reset_index(name='counts'))\n",
    "df_for_tests.head()"
   ]
  },
  {
   "cell_type": "code",
   "execution_count": 45,
   "metadata": {},
   "outputs": [
    {
     "data": {
      "text/plain": [
       "Index(['category', 'year', 'rating', 'counts'], dtype='object')"
      ]
     },
     "execution_count": 45,
     "metadata": {},
     "output_type": "execute_result"
    }
   ],
   "source": [
    "df_for_tests.columns"
   ]
  },
  {
   "cell_type": "code",
   "execution_count": 46,
   "metadata": {},
   "outputs": [],
   "source": [
    "options = ['comedy', 'education', 'business', 'arts']"
   ]
  },
  {
   "cell_type": "code",
   "execution_count": 47,
   "metadata": {},
   "outputs": [
    {
     "data": {
      "text/html": [
       "<div>\n",
       "<style scoped>\n",
       "    .dataframe tbody tr th:only-of-type {\n",
       "        vertical-align: middle;\n",
       "    }\n",
       "\n",
       "    .dataframe tbody tr th {\n",
       "        vertical-align: top;\n",
       "    }\n",
       "\n",
       "    .dataframe thead th {\n",
       "        text-align: right;\n",
       "    }\n",
       "</style>\n",
       "<table border=\"1\" class=\"dataframe\">\n",
       "  <thead>\n",
       "    <tr style=\"text-align: right;\">\n",
       "      <th></th>\n",
       "      <th>category</th>\n",
       "      <th>year</th>\n",
       "      <th>rating</th>\n",
       "      <th>counts</th>\n",
       "    </tr>\n",
       "  </thead>\n",
       "  <tbody>\n",
       "    <tr>\n",
       "      <th>0</th>\n",
       "      <td>arts</td>\n",
       "      <td>2006</td>\n",
       "      <td>5</td>\n",
       "      <td>12</td>\n",
       "    </tr>\n",
       "    <tr>\n",
       "      <th>1</th>\n",
       "      <td>arts</td>\n",
       "      <td>2007</td>\n",
       "      <td>5</td>\n",
       "      <td>12</td>\n",
       "    </tr>\n",
       "    <tr>\n",
       "      <th>3</th>\n",
       "      <td>arts</td>\n",
       "      <td>2008</td>\n",
       "      <td>5</td>\n",
       "      <td>8</td>\n",
       "    </tr>\n",
       "    <tr>\n",
       "      <th>6</th>\n",
       "      <td>arts</td>\n",
       "      <td>2009</td>\n",
       "      <td>5</td>\n",
       "      <td>9</td>\n",
       "    </tr>\n",
       "    <tr>\n",
       "      <th>8</th>\n",
       "      <td>arts</td>\n",
       "      <td>2010</td>\n",
       "      <td>5</td>\n",
       "      <td>11</td>\n",
       "    </tr>\n",
       "  </tbody>\n",
       "</table>\n",
       "</div>"
      ],
      "text/plain": [
       "  category  year  rating  counts\n",
       "0     arts  2006       5      12\n",
       "1     arts  2007       5      12\n",
       "3     arts  2008       5       8\n",
       "6     arts  2009       5       9\n",
       "8     arts  2010       5      11"
      ]
     },
     "execution_count": 47,
     "metadata": {},
     "output_type": "execute_result"
    }
   ],
   "source": [
    "rslt_df = df_for_tests[(df_for_tests['rating'] == 5) & df_for_tests['category'].isin(options)]\n",
    "rslt_df.head()"
   ]
  },
  {
   "cell_type": "code",
   "execution_count": 48,
   "metadata": {},
   "outputs": [],
   "source": [
    "year_options = [2006, 2007, 2008, 2009]"
   ]
  },
  {
   "cell_type": "markdown",
   "metadata": {},
   "source": [
    "Not all categories are mentioned in all years, I selected to do analysis from 2010."
   ]
  },
  {
   "cell_type": "code",
   "execution_count": 49,
   "metadata": {},
   "outputs": [
    {
     "data": {
      "text/html": [
       "<div>\n",
       "<style scoped>\n",
       "    .dataframe tbody tr th:only-of-type {\n",
       "        vertical-align: middle;\n",
       "    }\n",
       "\n",
       "    .dataframe tbody tr th {\n",
       "        vertical-align: top;\n",
       "    }\n",
       "\n",
       "    .dataframe thead th {\n",
       "        text-align: right;\n",
       "    }\n",
       "</style>\n",
       "<table border=\"1\" class=\"dataframe\">\n",
       "  <thead>\n",
       "    <tr style=\"text-align: right;\">\n",
       "      <th></th>\n",
       "      <th>category</th>\n",
       "      <th>year</th>\n",
       "      <th>rating</th>\n",
       "      <th>counts</th>\n",
       "    </tr>\n",
       "  </thead>\n",
       "  <tbody>\n",
       "    <tr>\n",
       "      <th>8</th>\n",
       "      <td>arts</td>\n",
       "      <td>2010</td>\n",
       "      <td>5</td>\n",
       "      <td>11</td>\n",
       "    </tr>\n",
       "    <tr>\n",
       "      <th>12</th>\n",
       "      <td>arts</td>\n",
       "      <td>2011</td>\n",
       "      <td>5</td>\n",
       "      <td>14</td>\n",
       "    </tr>\n",
       "    <tr>\n",
       "      <th>14</th>\n",
       "      <td>arts</td>\n",
       "      <td>2012</td>\n",
       "      <td>5</td>\n",
       "      <td>12</td>\n",
       "    </tr>\n",
       "    <tr>\n",
       "      <th>16</th>\n",
       "      <td>arts</td>\n",
       "      <td>2013</td>\n",
       "      <td>5</td>\n",
       "      <td>11</td>\n",
       "    </tr>\n",
       "    <tr>\n",
       "      <th>18</th>\n",
       "      <td>arts</td>\n",
       "      <td>2014</td>\n",
       "      <td>5</td>\n",
       "      <td>33</td>\n",
       "    </tr>\n",
       "  </tbody>\n",
       "</table>\n",
       "</div>"
      ],
      "text/plain": [
       "   category  year  rating  counts\n",
       "8      arts  2010       5      11\n",
       "12     arts  2011       5      14\n",
       "14     arts  2012       5      12\n",
       "16     arts  2013       5      11\n",
       "18     arts  2014       5      33"
      ]
     },
     "execution_count": 49,
     "metadata": {},
     "output_type": "execute_result"
    }
   ],
   "source": [
    "rslt_df = rslt_df.loc[~rslt_df['year'].isin(year_options)]\n",
    "rslt_df.head()"
   ]
  },
  {
   "cell_type": "code",
   "execution_count": 50,
   "metadata": {},
   "outputs": [],
   "source": [
    "test_df = rslt_df[['category', 'counts']]"
   ]
  },
  {
   "cell_type": "markdown",
   "metadata": {},
   "source": [
    "### Q-Q Plots <a class=\"anchor\" id=\"section5.2\"></a>\n",
    "\n",
    "Here I am doing the normality assumption check by plotting a normal probability plot (Q-Q plots).\n",
    "\n",
    "If the data falls into a largely straight-line pattern, then it can be assumed that data is distributed normally."
   ]
  },
  {
   "cell_type": "code",
   "execution_count": 51,
   "metadata": {},
   "outputs": [
    {
     "data": {
      "image/png": "[encoded data removed]",
      "text/plain": [
       "<Figure size 432x288 with 1 Axes>"
      ]
     },
     "metadata": {},
     "output_type": "display_data"
    },
    {
     "data": {
      "image/png": "[encoded data removed]",
      "text/plain": [
       "<Figure size 432x288 with 1 Axes>"
      ]
     },
     "metadata": {},
     "output_type": "display_data"
    },
    {
     "data": {
      "image/png": "[encoded data removed]",
      "text/plain": [
       "<Figure size 432x288 with 1 Axes>"
      ]
     },
     "metadata": {},
     "output_type": "display_data"
    },
    {
     "data": {
      "image/png": "[encoded data removed]",
      "text/plain": [
       "<Figure size 432x288 with 1 Axes>"
      ]
     },
     "metadata": {},
     "output_type": "display_data"
    }
   ],
   "source": [
    "unique_cat = test_df['category'].unique()\n",
    "for cat in unique_cat:\n",
    "    stats.probplot(test_df[test_df['category'] == cat]['counts'], dist=\"norm\", plot=plt)\n",
    "    plt.title(\"Probability Plot - \" +  cat)\n",
    "    plt.show()"
   ]
  },
  {
   "cell_type": "markdown",
   "metadata": {},
   "source": [
    "Here I am going to assume that for each category the rating count is normally distributed."
   ]
  },
  {
   "cell_type": "markdown",
   "metadata": {},
   "source": [
    "The following steps are going to be related to ANOVA hypothesis testing. I am going to create ANOVA table backbone and calculate all needed statistical variables for it.\n",
    "\n",
    "Below code cells are for understanding how the table is distributed and what variables are in each table cell:"
   ]
  },
  {
   "cell_type": "code",
   "execution_count": 52,
   "metadata": {},
   "outputs": [],
   "source": [
    "# Create ANOVA backbone table\n",
    "data_ex = [['Between Groups', '', '', '', '', '', ''], ['Within Groups', '', '', '', '', '', ''], ['Total', '', '', '', '', '', '']] \n",
    "anova_table_ex = pd.DataFrame(data_ex, columns = ['Source of Variation', 'SS', 'df', 'MS', 'F', 'P-value', 'F crit']) \n",
    "anova_table_ex.set_index('Source of Variation', inplace = True)"
   ]
  },
  {
   "cell_type": "code",
   "execution_count": 53,
   "metadata": {},
   "outputs": [
    {
     "data": {
      "text/html": [
       "<div>\n",
       "<style scoped>\n",
       "    .dataframe tbody tr th:only-of-type {\n",
       "        vertical-align: middle;\n",
       "    }\n",
       "\n",
       "    .dataframe tbody tr th {\n",
       "        vertical-align: top;\n",
       "    }\n",
       "\n",
       "    .dataframe thead th {\n",
       "        text-align: right;\n",
       "    }\n",
       "</style>\n",
       "<table border=\"1\" class=\"dataframe\">\n",
       "  <thead>\n",
       "    <tr style=\"text-align: right;\">\n",
       "      <th></th>\n",
       "      <th>SS</th>\n",
       "      <th>df</th>\n",
       "      <th>MS</th>\n",
       "      <th>F</th>\n",
       "      <th>P-value</th>\n",
       "      <th>F crit</th>\n",
       "    </tr>\n",
       "    <tr>\n",
       "      <th>Source of Variation</th>\n",
       "      <th></th>\n",
       "      <th></th>\n",
       "      <th></th>\n",
       "      <th></th>\n",
       "      <th></th>\n",
       "      <th></th>\n",
       "    </tr>\n",
       "  </thead>\n",
       "  <tbody>\n",
       "    <tr>\n",
       "      <th>Between Groups</th>\n",
       "      <td>SSTR</td>\n",
       "      <td>c-1</td>\n",
       "      <td>MSTR</td>\n",
       "      <td>(MSTR/MSE)</td>\n",
       "      <td>p</td>\n",
       "      <td>Fα; c-1, n-c</td>\n",
       "    </tr>\n",
       "    <tr>\n",
       "      <th>Within Groups</th>\n",
       "      <td>SSE</td>\n",
       "      <td>n-c</td>\n",
       "      <td>MSE</td>\n",
       "      <td></td>\n",
       "      <td></td>\n",
       "      <td></td>\n",
       "    </tr>\n",
       "    <tr>\n",
       "      <th>Total</th>\n",
       "      <td>SSTO</td>\n",
       "      <td>n-1</td>\n",
       "      <td></td>\n",
       "      <td></td>\n",
       "      <td></td>\n",
       "      <td></td>\n",
       "    </tr>\n",
       "  </tbody>\n",
       "</table>\n",
       "</div>"
      ],
      "text/plain": [
       "                       SS   df    MS           F P-value        F crit\n",
       "Source of Variation                                                   \n",
       "Between Groups       SSTR  c-1  MSTR  (MSTR/MSE)       p  Fα; c-1, n-c\n",
       "Within Groups         SSE  n-c   MSE                                  \n",
       "Total                SSTO  n-1                                        "
      ]
     },
     "execution_count": 53,
     "metadata": {},
     "output_type": "execute_result"
    }
   ],
   "source": [
    "anova_table_ex['SS']['Between Groups'] = 'SSTR'\n",
    "anova_table_ex['SS']['Within Groups'] = 'SSE'\n",
    "anova_table_ex['SS']['Total'] = 'SSTO'\n",
    "anova_table_ex['df']['Between Groups'] = 'c-1'\n",
    "anova_table_ex['df']['Within Groups'] = 'n-c'\n",
    "anova_table_ex['df']['Total'] = 'n-1'\n",
    "anova_table_ex['MS']['Between Groups'] = 'MSTR'\n",
    "anova_table_ex['MS']['Within Groups'] = 'MSE'\n",
    "anova_table_ex['F']['Between Groups'] = '(MSTR/MSE)'\n",
    "anova_table_ex['P-value']['Between Groups'] = 'p'\n",
    "anova_table_ex['F crit']['Between Groups'] = 'Fα; c-1, n-c'\n",
    "anova_table_ex"
   ]
  },
  {
   "cell_type": "markdown",
   "metadata": {},
   "source": [
    "Terminology:\n",
    "- SSTR - treatment sum of squares\n",
    "- SSE - sum of squares\n",
    "- SSTO - sum of the squares of the deviations af all the observations\n",
    "- c - number of independent groups\n",
    "- n - number of total observations in the analysis\n",
    "- MSRT - mean square (treatment)\n",
    "- MSE - mean square (error)\n",
    "- F - An F-statistic is the ratio of two variances, or technically, two mean squares.\n",
    "- SS - sum of squares. The total amount of variability comes from two possible sources, namely:\n",
    "                    1. Difference among the groups, called treatment (TR)\n",
    "                    2. Difference within the groups, called error (E)\n",
    "- df - degrees of freedom\n",
    "- MS - mean squares"
   ]
  },
  {
   "cell_type": "markdown",
   "metadata": {},
   "source": [
    "### Hypothesis Testing <a class=\"anchor\" id=\"section5.3\"></a>\n",
    "\n",
    "H₀: μ<sub>1</sub>= μ<sub>2</sub> = μ<sub>3</sub> = μ<sub>4</sub>, all rating counts' means are equal to each other.\n",
    "\n",
    "H₁: Not all rating counts' means are equal\n",
    "\n",
    "α = 0.05\n",
    "\n",
    "According to F test statistics:"
   ]
  },
  {
   "cell_type": "code",
   "execution_count": 54,
   "metadata": {},
   "outputs": [
    {
     "data": {
      "text/html": [
       "<div>\n",
       "<style scoped>\n",
       "    .dataframe tbody tr th:only-of-type {\n",
       "        vertical-align: middle;\n",
       "    }\n",
       "\n",
       "    .dataframe tbody tr th {\n",
       "        vertical-align: top;\n",
       "    }\n",
       "\n",
       "    .dataframe thead th {\n",
       "        text-align: right;\n",
       "    }\n",
       "</style>\n",
       "<table border=\"1\" class=\"dataframe\">\n",
       "  <thead>\n",
       "    <tr style=\"text-align: right;\">\n",
       "      <th></th>\n",
       "      <th>SS</th>\n",
       "      <th>df</th>\n",
       "      <th>MS</th>\n",
       "      <th>F</th>\n",
       "      <th>P-value</th>\n",
       "      <th>F crit</th>\n",
       "    </tr>\n",
       "    <tr>\n",
       "      <th>Source of Variation</th>\n",
       "      <th></th>\n",
       "      <th></th>\n",
       "      <th></th>\n",
       "      <th></th>\n",
       "      <th></th>\n",
       "      <th></th>\n",
       "    </tr>\n",
       "  </thead>\n",
       "  <tbody>\n",
       "    <tr>\n",
       "      <th>Between Groups</th>\n",
       "      <td>7539.733333</td>\n",
       "      <td>3</td>\n",
       "      <td>2513.244444</td>\n",
       "      <td>0.386112</td>\n",
       "      <td>0.763554</td>\n",
       "      <td>3.445689</td>\n",
       "    </tr>\n",
       "    <tr>\n",
       "      <th>Within Groups</th>\n",
       "      <td>273382.266667</td>\n",
       "      <td>42</td>\n",
       "      <td>6509.101587</td>\n",
       "      <td></td>\n",
       "      <td></td>\n",
       "      <td></td>\n",
       "    </tr>\n",
       "    <tr>\n",
       "      <th>Total</th>\n",
       "      <td>280922.0</td>\n",
       "      <td>45</td>\n",
       "      <td>6242.711111</td>\n",
       "      <td></td>\n",
       "      <td></td>\n",
       "      <td></td>\n",
       "    </tr>\n",
       "  </tbody>\n",
       "</table>\n",
       "</div>"
      ],
      "text/plain": [
       "                                SS  df           MS         F   P-value  \\\n",
       "Source of Variation                                                       \n",
       "Between Groups         7539.733333   3  2513.244444  0.386112  0.763554   \n",
       "Within Groups        273382.266667  42  6509.101587                       \n",
       "Total                     280922.0  45  6242.711111                       \n",
       "\n",
       "                       F crit  \n",
       "Source of Variation            \n",
       "Between Groups       3.445689  \n",
       "Within Groups                  \n",
       "Total                          "
      ]
     },
     "execution_count": 54,
     "metadata": {},
     "output_type": "execute_result"
    }
   ],
   "source": [
    "# Create ANOVA backbone table\n",
    "data = [['Between Groups', '', '', '', '', '', ''], ['Within Groups', '', '', '', '', '', ''], ['Total', '', '', '', '', '', '']] \n",
    "anova_table = pd.DataFrame(data, columns = ['Source of Variation', 'SS', 'df', 'MS', 'F', 'P-value', 'F crit']) \n",
    "anova_table.set_index('Source of Variation', inplace = True)\n",
    "\n",
    "# calculate SSTR and update anova table\n",
    "x_bar = test_df['counts'].mean()\n",
    "SSTR = test_df.groupby('category').count() * (test_df.groupby('category').mean() - x_bar)**2\n",
    "anova_table['SS']['Between Groups'] = SSTR['counts'].sum()\n",
    "\n",
    "# calculate SSE and update anova table\n",
    "SSE = (test_df.groupby('category').count() - 1) * test_df.groupby('category').std()**2\n",
    "anova_table['SS']['Within Groups'] = SSE['counts'].sum()\n",
    "\n",
    "# calculate SSTR and update anova table\n",
    "SSTR = SSTR['counts'].sum() + SSE['counts'].sum()\n",
    "anova_table['SS']['Total'] = SSTR\n",
    "\n",
    "# update degree of freedom\n",
    "anova_table['df']['Between Groups'] = test_df['category'].nunique() - 1\n",
    "anova_table['df']['Within Groups'] = test_df.shape[0] - test_df['category'].nunique()\n",
    "anova_table['df']['Total'] = test_df.shape[0] - 1\n",
    "\n",
    "# calculate MS\n",
    "anova_table['MS'] = anova_table['SS'] / anova_table['df']\n",
    "\n",
    "# calculate F \n",
    "F = anova_table['MS']['Between Groups'] / anova_table['MS']['Within Groups']\n",
    "anova_table['F']['Between Groups'] = F\n",
    "\n",
    "# p-value\n",
    "anova_table['P-value']['Between Groups'] = 1 - stats.f.cdf(F, anova_table['df']['Between Groups'], anova_table['df']['Within Groups'])\n",
    "\n",
    "# F critical \n",
    "alpha = 0.05\n",
    "# possible types \"right-tailed, left-tailed, two-tailed\"\n",
    "tail_hypothesis_type = \"two-tailed\"\n",
    "if tail_hypothesis_type == \"two-tailed\":\n",
    "    alpha /= 2\n",
    "anova_table['F crit']['Between Groups'] = stats.f.ppf(1-alpha, anova_table['df']['Between Groups'], anova_table['df']['Within Groups'])\n",
    "\n",
    "# Final ANOVA Table\n",
    "anova_table"
   ]
  },
  {
   "cell_type": "code",
   "execution_count": 55,
   "metadata": {},
   "outputs": [
    {
     "name": "stdout",
     "output_type": "stream",
     "text": [
      "Approach 1: The p-value approach to hypothesis testing in the decision rule\n",
      "F-score is: 0.38611233988842003  and p value is: 0.7635537337741973\n",
      "Failed to reject the null hypothesis.\n",
      "\n",
      "--------------------------------------------------------------------------------------\n",
      "Approach 2: The critical value approach to hypothesis testing in the decision rule\n",
      "F-score is: 0.38611233988842003  and critical value is: 3.445688910242221\n",
      "Failed to reject the null hypothesis.\n"
     ]
    }
   ],
   "source": [
    "# The p-value approach\n",
    "print(\"Approach 1: The p-value approach to hypothesis testing in the decision rule\")\n",
    "conclusion = \"Failed to reject the null hypothesis.\"\n",
    "if anova_table['P-value']['Between Groups'] <= alpha:\n",
    "    conclusion = \"Null Hypothesis is rejected.\"\n",
    "print(\"F-score is:\", anova_table['F']['Between Groups'], \" and p value is:\", anova_table['P-value']['Between Groups'])    \n",
    "print(conclusion)\n",
    "    \n",
    "# The critical value approach\n",
    "print(\"\\n--------------------------------------------------------------------------------------\")\n",
    "print(\"Approach 2: The critical value approach to hypothesis testing in the decision rule\")\n",
    "conclusion = \"Failed to reject the null hypothesis.\"\n",
    "if anova_table['F']['Between Groups'] > anova_table['F crit']['Between Groups']:\n",
    "    conclusion = \"Null Hypothesis is rejected.\"\n",
    "print(\"F-score is:\", anova_table['F']['Between Groups'], \" and critical value is:\", anova_table['F crit']['Between Groups'])\n",
    "print(conclusion)"
   ]
  },
  {
   "cell_type": "markdown",
   "metadata": {},
   "source": [
    "## The Sentiment Classifier <a class=\"anchor\" id=\"chapter6\"></a>"
   ]
  },
  {
   "cell_type": "markdown",
   "metadata": {},
   "source": [
    "For the Sentiment Classifier, I am going to sort the ratings into good and bad (5, 4 are good,the other ones- no :(( )"
   ]
  },
  {
   "cell_type": "code",
   "execution_count": 56,
   "metadata": {},
   "outputs": [
    {
     "data": {
      "text/html": [
       "<div>\n",
       "<style scoped>\n",
       "    .dataframe tbody tr th:only-of-type {\n",
       "        vertical-align: middle;\n",
       "    }\n",
       "\n",
       "    .dataframe tbody tr th {\n",
       "        vertical-align: top;\n",
       "    }\n",
       "\n",
       "    .dataframe thead th {\n",
       "        text-align: right;\n",
       "    }\n",
       "</style>\n",
       "<table border=\"1\" class=\"dataframe\">\n",
       "  <thead>\n",
       "    <tr style=\"text-align: right;\">\n",
       "      <th></th>\n",
       "      <th>podcast_id</th>\n",
       "      <th>title</th>\n",
       "      <th>rating</th>\n",
       "      <th>content</th>\n",
       "    </tr>\n",
       "  </thead>\n",
       "  <tbody>\n",
       "    <tr>\n",
       "      <th>0</th>\n",
       "      <td>c61aa81c9b929a66f0c1db6cbe5d8548</td>\n",
       "      <td>Backstage at Tilles Center</td>\n",
       "      <td>5</td>\n",
       "      <td>Thanks for providing these insights.  Really e...</td>\n",
       "    </tr>\n",
       "    <tr>\n",
       "      <th>1</th>\n",
       "      <td>c61aa81c9b929a66f0c1db6cbe5d8548</td>\n",
       "      <td>Backstage at Tilles Center</td>\n",
       "      <td>5</td>\n",
       "      <td>Thanks for providing these insights.  Really e...</td>\n",
       "    </tr>\n",
       "    <tr>\n",
       "      <th>2</th>\n",
       "      <td>c61aa81c9b929a66f0c1db6cbe5d8548</td>\n",
       "      <td>Backstage at Tilles Center</td>\n",
       "      <td>5</td>\n",
       "      <td>Thanks for providing these insights.  Really e...</td>\n",
       "    </tr>\n",
       "    <tr>\n",
       "      <th>3</th>\n",
       "      <td>c61aa81c9b929a66f0c1db6cbe5d8548</td>\n",
       "      <td>Backstage at Tilles Center</td>\n",
       "      <td>5</td>\n",
       "      <td>Super excited to see this podcast grow. So man...</td>\n",
       "    </tr>\n",
       "    <tr>\n",
       "      <th>4</th>\n",
       "      <td>c61aa81c9b929a66f0c1db6cbe5d8548</td>\n",
       "      <td>Backstage at Tilles Center</td>\n",
       "      <td>5</td>\n",
       "      <td>Super excited to see this podcast grow. So man...</td>\n",
       "    </tr>\n",
       "  </tbody>\n",
       "</table>\n",
       "</div>"
      ],
      "text/plain": [
       "                         podcast_id                       title  rating  \\\n",
       "0  c61aa81c9b929a66f0c1db6cbe5d8548  Backstage at Tilles Center       5   \n",
       "1  c61aa81c9b929a66f0c1db6cbe5d8548  Backstage at Tilles Center       5   \n",
       "2  c61aa81c9b929a66f0c1db6cbe5d8548  Backstage at Tilles Center       5   \n",
       "3  c61aa81c9b929a66f0c1db6cbe5d8548  Backstage at Tilles Center       5   \n",
       "4  c61aa81c9b929a66f0c1db6cbe5d8548  Backstage at Tilles Center       5   \n",
       "\n",
       "                                             content  \n",
       "0  Thanks for providing these insights.  Really e...  \n",
       "1  Thanks for providing these insights.  Really e...  \n",
       "2  Thanks for providing these insights.  Really e...  \n",
       "3  Super excited to see this podcast grow. So man...  \n",
       "4  Super excited to see this podcast grow. So man...  "
      ]
     },
     "execution_count": 56,
     "metadata": {},
     "output_type": "execute_result"
    }
   ],
   "source": [
    "podcasts = df_without_duplicates[['podcast_id','title', 'rating', 'content']]\n",
    "podcasts.head()"
   ]
  },
  {
   "cell_type": "markdown",
   "metadata": {},
   "source": [
    "Here I am going to provide that the dataframe does not contain any unnecessary emojis or other unwanted characters."
   ]
  },
  {
   "cell_type": "code",
   "execution_count": 57,
   "metadata": {},
   "outputs": [
    {
     "data": {
      "text/html": [
       "<div>\n",
       "<style scoped>\n",
       "    .dataframe tbody tr th:only-of-type {\n",
       "        vertical-align: middle;\n",
       "    }\n",
       "\n",
       "    .dataframe tbody tr th {\n",
       "        vertical-align: top;\n",
       "    }\n",
       "\n",
       "    .dataframe thead th {\n",
       "        text-align: right;\n",
       "    }\n",
       "</style>\n",
       "<table border=\"1\" class=\"dataframe\">\n",
       "  <thead>\n",
       "    <tr style=\"text-align: right;\">\n",
       "      <th></th>\n",
       "      <th>podcast_id</th>\n",
       "      <th>title</th>\n",
       "      <th>rating</th>\n",
       "      <th>content</th>\n",
       "    </tr>\n",
       "  </thead>\n",
       "  <tbody>\n",
       "    <tr>\n",
       "      <th>0</th>\n",
       "      <td>c61aa81c9b929a66f0c1db6cbe5d8548</td>\n",
       "      <td>Backstage at Tilles Center</td>\n",
       "      <td>5</td>\n",
       "      <td>Thanks for providing these insights.  Really e...</td>\n",
       "    </tr>\n",
       "    <tr>\n",
       "      <th>1</th>\n",
       "      <td>c61aa81c9b929a66f0c1db6cbe5d8548</td>\n",
       "      <td>Backstage at Tilles Center</td>\n",
       "      <td>5</td>\n",
       "      <td>Thanks for providing these insights.  Really e...</td>\n",
       "    </tr>\n",
       "  </tbody>\n",
       "</table>\n",
       "</div>"
      ],
      "text/plain": [
       "                         podcast_id                       title  rating  \\\n",
       "0  c61aa81c9b929a66f0c1db6cbe5d8548  Backstage at Tilles Center       5   \n",
       "1  c61aa81c9b929a66f0c1db6cbe5d8548  Backstage at Tilles Center       5   \n",
       "\n",
       "                                             content  \n",
       "0  Thanks for providing these insights.  Really e...  \n",
       "1  Thanks for providing these insights.  Really e...  "
      ]
     },
     "execution_count": 57,
     "metadata": {},
     "output_type": "execute_result"
    }
   ],
   "source": [
    "podcasts.astype(str).apply(lambda x: x.str.encode('ascii', 'ignore').str.decode('ascii'))\n",
    "podcasts.head(2)"
   ]
  },
  {
   "cell_type": "markdown",
   "metadata": {},
   "source": [
    "5 and 4 are encoded 1, and 1-2 are encoded 0.\n"
   ]
  },
  {
   "cell_type": "code",
   "execution_count": 58,
   "metadata": {},
   "outputs": [
    {
     "data": {
      "text/html": [
       "<div>\n",
       "<style scoped>\n",
       "    .dataframe tbody tr th:only-of-type {\n",
       "        vertical-align: middle;\n",
       "    }\n",
       "\n",
       "    .dataframe tbody tr th {\n",
       "        vertical-align: top;\n",
       "    }\n",
       "\n",
       "    .dataframe thead th {\n",
       "        text-align: right;\n",
       "    }\n",
       "</style>\n",
       "<table border=\"1\" class=\"dataframe\">\n",
       "  <thead>\n",
       "    <tr style=\"text-align: right;\">\n",
       "      <th></th>\n",
       "      <th>podcast_id</th>\n",
       "      <th>title</th>\n",
       "      <th>rating</th>\n",
       "      <th>content</th>\n",
       "      <th>sentiment</th>\n",
       "    </tr>\n",
       "  </thead>\n",
       "  <tbody>\n",
       "    <tr>\n",
       "      <th>0</th>\n",
       "      <td>c61aa81c9b929a66f0c1db6cbe5d8548</td>\n",
       "      <td>Backstage at Tilles Center</td>\n",
       "      <td>5</td>\n",
       "      <td>Thanks for providing these insights.  Really e...</td>\n",
       "      <td>1</td>\n",
       "    </tr>\n",
       "    <tr>\n",
       "      <th>1</th>\n",
       "      <td>c61aa81c9b929a66f0c1db6cbe5d8548</td>\n",
       "      <td>Backstage at Tilles Center</td>\n",
       "      <td>5</td>\n",
       "      <td>Thanks for providing these insights.  Really e...</td>\n",
       "      <td>1</td>\n",
       "    </tr>\n",
       "  </tbody>\n",
       "</table>\n",
       "</div>"
      ],
      "text/plain": [
       "                         podcast_id                       title  rating  \\\n",
       "0  c61aa81c9b929a66f0c1db6cbe5d8548  Backstage at Tilles Center       5   \n",
       "1  c61aa81c9b929a66f0c1db6cbe5d8548  Backstage at Tilles Center       5   \n",
       "\n",
       "                                             content  sentiment  \n",
       "0  Thanks for providing these insights.  Really e...          1  \n",
       "1  Thanks for providing these insights.  Really e...          1  "
      ]
     },
     "execution_count": 58,
     "metadata": {},
     "output_type": "execute_result"
    }
   ],
   "source": [
    "def sentiment(n):\n",
    "    return 1 if n >= 4 else 0\n",
    "podcasts['sentiment'] = podcasts['rating'].apply(sentiment)\n",
    "podcasts.head(2)"
   ]
  },
  {
   "cell_type": "markdown",
   "metadata": {},
   "source": [
    "The below code is just for combining two columns into one:"
   ]
  },
  {
   "cell_type": "code",
   "execution_count": 59,
   "metadata": {},
   "outputs": [],
   "source": [
    "podcasts['all_features'] = podcasts[['title', 'content']].agg(' '.join, axis=1)"
   ]
  },
  {
   "cell_type": "code",
   "execution_count": 60,
   "metadata": {},
   "outputs": [],
   "source": [
    "X = podcasts['all_features']\n",
    "y = podcasts['sentiment']"
   ]
  },
  {
   "cell_type": "code",
   "execution_count": 61,
   "metadata": {},
   "outputs": [],
   "source": [
    "\n",
    "X_train, X_test, y_train, y_test = train_test_split(X, y, random_state=0)"
   ]
  },
  {
   "cell_type": "code",
   "execution_count": 62,
   "metadata": {},
   "outputs": [],
   "source": [
    "cv = CountVectorizer()\n",
    "ctmTr = cv.fit_transform(X_train)\n",
    "X_test_dtm = cv.transform(X_test)"
   ]
  },
  {
   "cell_type": "code",
   "execution_count": 63,
   "metadata": {},
   "outputs": [
    {
     "name": "stderr",
     "output_type": "stream",
     "text": [
      "C:\\Users\\User\\anaconda3\\lib\\site-packages\\sklearn\\linear_model\\_logistic.py:763: ConvergenceWarning: lbfgs failed to converge (status=1):\n",
      "STOP: TOTAL NO. of ITERATIONS REACHED LIMIT.\n",
      "\n",
      "Increase the number of iterations (max_iter) or scale the data as shown in:\n",
      "    https://scikit-learn.org/stable/modules/preprocessing.html\n",
      "Please also refer to the documentation for alternative solver options:\n",
      "    https://scikit-learn.org/stable/modules/linear_model.html#logistic-regression\n",
      "  n_iter_i = _check_optimize_result(\n"
     ]
    },
    {
     "data": {
      "text/plain": [
       "LogisticRegression(max_iter=1000)"
      ]
     },
     "execution_count": 63,
     "metadata": {},
     "output_type": "execute_result"
    }
   ],
   "source": [
    "model = LogisticRegression(solver='lbfgs', max_iter=1000)\n",
    "model.fit(ctmTr, y_train)"
   ]
  },
  {
   "cell_type": "code",
   "execution_count": 64,
   "metadata": {},
   "outputs": [
    {
     "data": {
      "text/plain": [
       "array([1, 1, 1, ..., 1, 1, 1], dtype=int64)"
      ]
     },
     "execution_count": 64,
     "metadata": {},
     "output_type": "execute_result"
    }
   ],
   "source": [
    "y_pred_class = model.predict(X_test_dtm)\n",
    "y_pred_class"
   ]
  },
  {
   "cell_type": "code",
   "execution_count": 65,
   "metadata": {},
   "outputs": [
    {
     "data": {
      "text/plain": [
       "0.960535111816748"
      ]
     },
     "execution_count": 65,
     "metadata": {},
     "output_type": "execute_result"
    }
   ],
   "source": [
    "accuracy_score(y_test, y_pred_class)"
   ]
  },
  {
   "cell_type": "code",
   "execution_count": 66,
   "metadata": {},
   "outputs": [
    {
     "name": "stdout",
     "output_type": "stream",
     "text": [
      "              precision    recall  f1-score   support\n",
      "\n",
      "           0       0.83      0.67      0.74     32436\n",
      "           1       0.97      0.99      0.98    350512\n",
      "\n",
      "    accuracy                           0.96    382948\n",
      "   macro avg       0.90      0.83      0.86    382948\n",
      "weighted avg       0.96      0.96      0.96    382948\n",
      "\n"
     ]
    }
   ],
   "source": [
    "print(classification_report(y_test, y_pred_class))"
   ]
  },
  {
   "cell_type": "markdown",
   "metadata": {},
   "source": [
    "Here we can see that the Sentiment analizer model has 96% accuracy score. Thus, F1 sccore shows that predictions were made correctly (For bad ratings - 0.74, for good ratings - 0.98)."
   ]
  },
  {
   "cell_type": "markdown",
   "metadata": {},
   "source": [
    "## Conclusions <a class=\"anchor\" id=\"chapter7\"></a>\n",
    "\n",
    "* The Podcasts are rated highly: below 5 ratings are considered outliers.\n",
    "* The most ratings were get in 2013, least - 2005.\n",
    "* Since the podcasts are mostly rated 5, the content includes words that have positive meaning.\n",
    "* Dataset Ratings are non-normaly distributed\n",
    "* Throughout the years comedy, education, business and arts ratings counts are approximately the same. That means, that these categories are not only best rated, but have similar popularity among the raters.\n",
    "* The Sentiment Classifier showed good prediction - accuracy score is 96%, and those predictions were made correctly.\n",
    "\n",
    "What else could be done?\n",
    "\n",
    "* The relationship between rank score and most common word (correlation map)\n",
    "* The insights into dataset and worldwide situation (e.g. How COVID-19 had impact on podcast popularity?)\n",
    "\n",
    "---"
   ]
  },
  {
   "cell_type": "markdown",
   "metadata": {},
   "source": [
    "## Resources/References\n",
    "\n",
    "- https://www.datacamp.com/community/tutorials/recommender-systems-python\n",
    "- https://realpython.com/build-recommendation-engine-collaborative-filtering/\n",
    "- https://towardsdatascience.com/recommendation-system-in-python-lightfm-61c85010ce17\n",
    "- https://www.kaggle.com/gspmoreira/recommender-systems-in-python-101\n",
    "- https://docs.scipy.org/doc/scipy/reference/generated/scipy.stats.median_test.html\n",
    "- https://towardsdatascience.com/6-ways-to-test-for-a-normal-distribution-which-one-to-use-9dcf47d8fa93\n",
    "- https://www.isixsigma.com/tools-templates/normality/dealing-non-normal-data-strategies-and-tools/\n",
    "- https://people.richland.edu/james/lecture/m170/tbl-chi.html\n",
    "- https://learnui.design/tools/data-color-picker.html#palette\n",
    "- https://www.podcastinsights.com/podcast-statistics/\n",
    "- https://www.itl.nist.gov/div898/handbook/prc/section4/prc423.htm\n",
    "\n",
    "Uniform distribution:\n",
    "- https://www.investopedia.com/terms/u/uniform-distribution.asp\n",
    "\n",
    "\n"
   ]
  },
  {
   "cell_type": "markdown",
   "metadata": {},
   "source": [
    "Egle Vitkunaite, 2021-11-05\n"
   ]
  },
  {
   "cell_type": "markdown",
   "metadata": {},
   "source": [
    "galima prasiplesti ka dariau ir kodel neitraukiau (palaikyti balansa)\n",
    "galima parasyti ka dariau, kas isejo, kas ne\n",
    "\n",
    "- https://towardsdatascience.com/anova-test-with-python-cfbf4013328b\n",
    "- https://towardsdatascience.com/a-complete-sentiment-analysis-algorithm-in-python-with-amazon-product-review-data-step-by-step-2680d2e2c23b\n",
    "- https://towardsdatascience.com/anova-test-with-python-cfbf4013328b\n",
    "- https://www.graphpad.com/support/faq/the-anova-table-ss-and-df-in-two-way-anova/"
   ]
  },
  {
   "cell_type": "markdown",
   "metadata": {},
   "source": []
  }
 ],
 "metadata": {
  "interpreter": {
   "hash": "8fac594bfae6525c0c41b4041d2d72effa188cc8ead05f81b1fab2bb098927fb"
  },
  "kernelspec": {
   "display_name": "Python 3.8.8 64-bit ('base': conda)",
   "name": "python3"
  },
  "language_info": {
   "codemirror_mode": {
    "name": "ipython",
    "version": 3
   },
   "file_extension": ".py",
   "mimetype": "text/x-python",
   "name": "python",
   "nbconvert_exporter": "python",
   "pygments_lexer": "ipython3",
   "version": "3.8.8"
  }
 },
 "nbformat": 4,
 "nbformat_minor": 4
}
